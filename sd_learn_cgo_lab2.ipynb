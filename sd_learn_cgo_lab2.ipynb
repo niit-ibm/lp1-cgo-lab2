{
 "cells": [
  {
   "cell_type": "code",
   "execution_count": 1,
   "metadata": {
    "colab": {
     "base_uri": "https://localhost:8080/"
    },
    "id": "urkECkXbAgo6",
    "outputId": "5623922a-a16f-4349-8b6c-db6d63bc0e7e"
   },
   "outputs": [
    {
     "name": "stdout",
     "output_type": "stream",
     "text": [
      "Collecting git+https://github.com/ibm-granite-community/utils\n",
      "  Cloning https://github.com/ibm-granite-community/utils to /tmp/pip-req-build-yfpc78jn\n",
      "  Running command git clone --filter=blob:none --quiet https://github.com/ibm-granite-community/utils /tmp/pip-req-build-yfpc78jn\n",
      "  Resolved https://github.com/ibm-granite-community/utils to commit ccbb2307ce43170395c921b3305c9d13b9d24a85\n",
      "  Installing build dependencies ... \u001b[?25l\u001b[?25hdone\n",
      "  Getting requirements to build wheel ... \u001b[?25l\u001b[?25hdone\n",
      "  Preparing metadata (pyproject.toml) ... \u001b[?25l\u001b[?25hdone\n",
      "Collecting langchain_community<0.3.0\n",
      "  Downloading langchain_community-0.2.18-py3-none-any.whl.metadata (2.7 kB)\n",
      "Collecting replicate\n",
      "  Downloading replicate-1.0.3-py3-none-any.whl.metadata (25 kB)\n",
      "Collecting python-dotenv (from ibm_granite_community-utils==0.1.dev45)\n",
      "  Downloading python_dotenv-1.0.1-py3-none-any.whl.metadata (23 kB)\n",
      "Requirement already satisfied: PyYAML>=5.3 in /usr/local/lib/python3.10/dist-packages (from langchain_community<0.3.0) (6.0.2)\n",
      "Requirement already satisfied: SQLAlchemy<3,>=1.4 in /usr/local/lib/python3.10/dist-packages (from langchain_community<0.3.0) (2.0.36)\n",
      "Requirement already satisfied: aiohttp<4.0.0,>=3.8.3 in /usr/local/lib/python3.10/dist-packages (from langchain_community<0.3.0) (3.10.10)\n",
      "Collecting dataclasses-json<0.7,>=0.5.7 (from langchain_community<0.3.0)\n",
      "  Downloading dataclasses_json-0.6.7-py3-none-any.whl.metadata (25 kB)\n",
      "Collecting langchain<0.3.0,>=0.2.17 (from langchain_community<0.3.0)\n",
      "  Downloading langchain-0.2.17-py3-none-any.whl.metadata (7.1 kB)\n",
      "Collecting langchain-core<0.3.0,>=0.2.43 (from langchain_community<0.3.0)\n",
      "  Downloading langchain_core-0.2.43-py3-none-any.whl.metadata (6.2 kB)\n",
      "Requirement already satisfied: langsmith<0.2.0,>=0.1.112 in /usr/local/lib/python3.10/dist-packages (from langchain_community<0.3.0) (0.1.139)\n",
      "Requirement already satisfied: numpy<2,>=1 in /usr/local/lib/python3.10/dist-packages (from langchain_community<0.3.0) (1.26.4)\n",
      "Requirement already satisfied: requests<3,>=2 in /usr/local/lib/python3.10/dist-packages (from langchain_community<0.3.0) (2.32.3)\n",
      "Collecting tenacity!=8.4.0,<9.0.0,>=8.1.0 (from langchain_community<0.3.0)\n",
      "  Downloading tenacity-8.5.0-py3-none-any.whl.metadata (1.2 kB)\n",
      "Requirement already satisfied: httpx<1,>=0.21.0 in /usr/local/lib/python3.10/dist-packages (from replicate) (0.27.2)\n",
      "Requirement already satisfied: packaging in /usr/local/lib/python3.10/dist-packages (from replicate) (24.1)\n",
      "Requirement already satisfied: pydantic>1.10.7 in /usr/local/lib/python3.10/dist-packages (from replicate) (2.9.2)\n",
      "Requirement already satisfied: typing-extensions>=4.5.0 in /usr/local/lib/python3.10/dist-packages (from replicate) (4.12.2)\n",
      "Requirement already satisfied: aiohappyeyeballs>=2.3.0 in /usr/local/lib/python3.10/dist-packages (from aiohttp<4.0.0,>=3.8.3->langchain_community<0.3.0) (2.4.3)\n",
      "Requirement already satisfied: aiosignal>=1.1.2 in /usr/local/lib/python3.10/dist-packages (from aiohttp<4.0.0,>=3.8.3->langchain_community<0.3.0) (1.3.1)\n",
      "Requirement already satisfied: attrs>=17.3.0 in /usr/local/lib/python3.10/dist-packages (from aiohttp<4.0.0,>=3.8.3->langchain_community<0.3.0) (24.2.0)\n",
      "Requirement already satisfied: frozenlist>=1.1.1 in /usr/local/lib/python3.10/dist-packages (from aiohttp<4.0.0,>=3.8.3->langchain_community<0.3.0) (1.5.0)\n",
      "Requirement already satisfied: multidict<7.0,>=4.5 in /usr/local/lib/python3.10/dist-packages (from aiohttp<4.0.0,>=3.8.3->langchain_community<0.3.0) (6.1.0)\n",
      "Requirement already satisfied: yarl<2.0,>=1.12.0 in /usr/local/lib/python3.10/dist-packages (from aiohttp<4.0.0,>=3.8.3->langchain_community<0.3.0) (1.17.1)\n",
      "Requirement already satisfied: async-timeout<5.0,>=4.0 in /usr/local/lib/python3.10/dist-packages (from aiohttp<4.0.0,>=3.8.3->langchain_community<0.3.0) (4.0.3)\n",
      "Collecting marshmallow<4.0.0,>=3.18.0 (from dataclasses-json<0.7,>=0.5.7->langchain_community<0.3.0)\n",
      "  Downloading marshmallow-3.23.1-py3-none-any.whl.metadata (7.5 kB)\n",
      "Collecting typing-inspect<1,>=0.4.0 (from dataclasses-json<0.7,>=0.5.7->langchain_community<0.3.0)\n",
      "  Downloading typing_inspect-0.9.0-py3-none-any.whl.metadata (1.5 kB)\n",
      "Requirement already satisfied: anyio in /usr/local/lib/python3.10/dist-packages (from httpx<1,>=0.21.0->replicate) (3.7.1)\n",
      "Requirement already satisfied: certifi in /usr/local/lib/python3.10/dist-packages (from httpx<1,>=0.21.0->replicate) (2024.8.30)\n",
      "Requirement already satisfied: httpcore==1.* in /usr/local/lib/python3.10/dist-packages (from httpx<1,>=0.21.0->replicate) (1.0.6)\n",
      "Requirement already satisfied: idna in /usr/local/lib/python3.10/dist-packages (from httpx<1,>=0.21.0->replicate) (3.10)\n",
      "Requirement already satisfied: sniffio in /usr/local/lib/python3.10/dist-packages (from httpx<1,>=0.21.0->replicate) (1.3.1)\n",
      "Requirement already satisfied: h11<0.15,>=0.13 in /usr/local/lib/python3.10/dist-packages (from httpcore==1.*->httpx<1,>=0.21.0->replicate) (0.14.0)\n",
      "Collecting langchain-text-splitters<0.3.0,>=0.2.0 (from langchain<0.3.0,>=0.2.17->langchain_community<0.3.0)\n",
      "  Downloading langchain_text_splitters-0.2.4-py3-none-any.whl.metadata (2.3 kB)\n",
      "Requirement already satisfied: jsonpatch<2.0,>=1.33 in /usr/local/lib/python3.10/dist-packages (from langchain-core<0.3.0,>=0.2.43->langchain_community<0.3.0) (1.33)\n",
      "Requirement already satisfied: orjson<4.0.0,>=3.9.14 in /usr/local/lib/python3.10/dist-packages (from langsmith<0.2.0,>=0.1.112->langchain_community<0.3.0) (3.10.11)\n",
      "Requirement already satisfied: requests-toolbelt<2.0.0,>=1.0.0 in /usr/local/lib/python3.10/dist-packages (from langsmith<0.2.0,>=0.1.112->langchain_community<0.3.0) (1.0.0)\n",
      "Requirement already satisfied: annotated-types>=0.6.0 in /usr/local/lib/python3.10/dist-packages (from pydantic>1.10.7->replicate) (0.7.0)\n",
      "Requirement already satisfied: pydantic-core==2.23.4 in /usr/local/lib/python3.10/dist-packages (from pydantic>1.10.7->replicate) (2.23.4)\n",
      "Requirement already satisfied: charset-normalizer<4,>=2 in /usr/local/lib/python3.10/dist-packages (from requests<3,>=2->langchain_community<0.3.0) (3.4.0)\n",
      "Requirement already satisfied: urllib3<3,>=1.21.1 in /usr/local/lib/python3.10/dist-packages (from requests<3,>=2->langchain_community<0.3.0) (2.2.3)\n",
      "Requirement already satisfied: greenlet!=0.4.17 in /usr/local/lib/python3.10/dist-packages (from SQLAlchemy<3,>=1.4->langchain_community<0.3.0) (3.1.1)\n",
      "Requirement already satisfied: jsonpointer>=1.9 in /usr/local/lib/python3.10/dist-packages (from jsonpatch<2.0,>=1.33->langchain-core<0.3.0,>=0.2.43->langchain_community<0.3.0) (3.0.0)\n",
      "Collecting mypy-extensions>=0.3.0 (from typing-inspect<1,>=0.4.0->dataclasses-json<0.7,>=0.5.7->langchain_community<0.3.0)\n",
      "  Downloading mypy_extensions-1.0.0-py3-none-any.whl.metadata (1.1 kB)\n",
      "Requirement already satisfied: propcache>=0.2.0 in /usr/local/lib/python3.10/dist-packages (from yarl<2.0,>=1.12.0->aiohttp<4.0.0,>=3.8.3->langchain_community<0.3.0) (0.2.0)\n",
      "Requirement already satisfied: exceptiongroup in /usr/local/lib/python3.10/dist-packages (from anyio->httpx<1,>=0.21.0->replicate) (1.2.2)\n",
      "Downloading langchain_community-0.2.18-py3-none-any.whl (2.3 MB)\n",
      "\u001b[2K   \u001b[90m━━━━━━━━━━━━━━━━━━━━━━━━━━━━━━━━━━━━━━━━\u001b[0m \u001b[32m2.3/2.3 MB\u001b[0m \u001b[31m27.8 MB/s\u001b[0m eta \u001b[36m0:00:00\u001b[0m\n",
      "\u001b[?25hDownloading replicate-1.0.3-py3-none-any.whl (46 kB)\n",
      "\u001b[2K   \u001b[90m━━━━━━━━━━━━━━━━━━━━━━━━━━━━━━━━━━━━━━━━\u001b[0m \u001b[32m46.7/46.7 kB\u001b[0m \u001b[31m2.9 MB/s\u001b[0m eta \u001b[36m0:00:00\u001b[0m\n",
      "\u001b[?25hDownloading dataclasses_json-0.6.7-py3-none-any.whl (28 kB)\n",
      "Downloading langchain-0.2.17-py3-none-any.whl (1.0 MB)\n",
      "\u001b[2K   \u001b[90m━━━━━━━━━━━━━━━━━━━━━━━━━━━━━━━━━━━━━━━━\u001b[0m \u001b[32m1.0/1.0 MB\u001b[0m \u001b[31m46.4 MB/s\u001b[0m eta \u001b[36m0:00:00\u001b[0m\n",
      "\u001b[?25hDownloading langchain_core-0.2.43-py3-none-any.whl (397 kB)\n",
      "\u001b[2K   \u001b[90m━━━━━━━━━━━━━━━━━━━━━━━━━━━━━━━━━━━━━━━━\u001b[0m \u001b[32m397.1/397.1 kB\u001b[0m \u001b[31m24.7 MB/s\u001b[0m eta \u001b[36m0:00:00\u001b[0m\n",
      "\u001b[?25hDownloading tenacity-8.5.0-py3-none-any.whl (28 kB)\n",
      "Downloading python_dotenv-1.0.1-py3-none-any.whl (19 kB)\n",
      "Downloading langchain_text_splitters-0.2.4-py3-none-any.whl (25 kB)\n",
      "Downloading marshmallow-3.23.1-py3-none-any.whl (49 kB)\n",
      "\u001b[2K   \u001b[90m━━━━━━━━━━━━━━━━━━━━━━━━━━━━━━━━━━━━━━━━\u001b[0m \u001b[32m49.5/49.5 kB\u001b[0m \u001b[31m3.1 MB/s\u001b[0m eta \u001b[36m0:00:00\u001b[0m\n",
      "\u001b[?25hDownloading typing_inspect-0.9.0-py3-none-any.whl (8.8 kB)\n",
      "Downloading mypy_extensions-1.0.0-py3-none-any.whl (4.7 kB)\n",
      "Building wheels for collected packages: ibm_granite_community-utils\n",
      "  Building wheel for ibm_granite_community-utils (pyproject.toml) ... \u001b[?25l\u001b[?25hdone\n",
      "  Created wheel for ibm_granite_community-utils: filename=ibm_granite_community_utils-0.1.dev45-py3-none-any.whl size=8315 sha256=1989d2d23499ef3acb6374eb47bb0146c8e42d45e8a73774e35cb974064f480c\n",
      "  Stored in directory: /tmp/pip-ephem-wheel-cache-onwv7nre/wheels/ee/16/b7/e10e3986779ca7e437370ddd3854cbbb6f9ddc27acf97a1405\n",
      "Successfully built ibm_granite_community-utils\n",
      "Installing collected packages: tenacity, python-dotenv, mypy-extensions, marshmallow, typing-inspect, ibm_granite_community-utils, replicate, dataclasses-json, langchain-core, langchain-text-splitters, langchain, langchain_community\n",
      "  Attempting uninstall: tenacity\n",
      "    Found existing installation: tenacity 9.0.0\n",
      "    Uninstalling tenacity-9.0.0:\n",
      "      Successfully uninstalled tenacity-9.0.0\n",
      "  Attempting uninstall: langchain-core\n",
      "    Found existing installation: langchain-core 0.3.15\n",
      "    Uninstalling langchain-core-0.3.15:\n",
      "      Successfully uninstalled langchain-core-0.3.15\n",
      "  Attempting uninstall: langchain-text-splitters\n",
      "    Found existing installation: langchain-text-splitters 0.3.2\n",
      "    Uninstalling langchain-text-splitters-0.3.2:\n",
      "      Successfully uninstalled langchain-text-splitters-0.3.2\n",
      "  Attempting uninstall: langchain\n",
      "    Found existing installation: langchain 0.3.7\n",
      "    Uninstalling langchain-0.3.7:\n",
      "      Successfully uninstalled langchain-0.3.7\n",
      "Successfully installed dataclasses-json-0.6.7 ibm_granite_community-utils-0.1.dev45 langchain-0.2.17 langchain-core-0.2.43 langchain-text-splitters-0.2.4 langchain_community-0.2.18 marshmallow-3.23.1 mypy-extensions-1.0.0 python-dotenv-1.0.1 replicate-1.0.3 tenacity-8.5.0 typing-inspect-0.9.0\n"
     ]
    }
   ],
   "source": [
    "!pip install git+https://github.com/ibm-granite-community/utils \\\n",
    "    \"langchain_community<0.3.0\" \\\n",
    "    replicate"
   ]
  },
  {
   "cell_type": "code",
   "execution_count": 2,
   "metadata": {
    "colab": {
     "base_uri": "https://localhost:8080/"
    },
    "id": "3r0HxqRQNo6A",
    "outputId": "40bf0377-6385-4ad9-f336-743e20910a6b"
   },
   "outputs": [
    {
     "name": "stdout",
     "output_type": "stream",
     "text": [
      "REPLICATE_API_TOKEN loaded from Google Colab secret.\n"
     ]
    }
   ],
   "source": [
    "from ibm_granite_community.notebook_utils import get_env_var\n",
    "from langchain_community.llms import Replicate\n",
    "\n",
    "model = Replicate(\n",
    "    # model=\"ibm-granite/granite-3.0-8b-instruct\",\n",
    "    model=\"ibm-granite/granite-8b-code-instruct-128k\",\n",
    "    replicate_api_token=get_env_var('REPLICATE_API_TOKEN'),\n",
    "    model_kwargs={\"max_length\":100, \"temperature\":0.2},\n",
    ")"
   ]
  },
  {
   "cell_type": "code",
   "execution_count": 3,
   "metadata": {
    "id": "3URKgq3vOME_"
   },
   "outputs": [],
   "source": [
    "def zeroshot_prompt(context, question):\n",
    "    \"\"\"\n",
    "    Creates a zero-shot prompt for the model, where the model acts as a seasoned programmer.\n",
    "\n",
    "    Parameters:\n",
    "    - context: str, contextual information for the prompt\n",
    "    - question: str, specific question or task for the model to perform\n",
    "\n",
    "    Returns:\n",
    "    - str, the formatted prompt\n",
    "    \"\"\"\n",
    "    prompt = f\"\"\"\n",
    "    You are an experienced programmer with 15 years of experience writing full-stack applications.\n",
    "    Your task is to help build an online bookstore. Begin by creating UI components using the Jupiter Notebook Widgets for interactivity.\n",
    "    The ouput code should not exceed 100 Tokens. Do not use GridBoxLayout attribute in the output.\n",
    "    Write Python code to address each specific user request. Return only the code as output.\n",
    "\n",
    "    Task: {context}\n",
    "\n",
    "    Question: {question}\n",
    "    \"\"\"\n",
    "    return prompt\n"
   ]
  },
  {
   "cell_type": "code",
   "execution_count": null,
   "metadata": {},
   "outputs": [],
   "source": [
    "def perform_operation(x, y, op):\n",
    "    if op == 'add':\n",
    "        return x + y\n",
    "    else:\n",
    "        return \"Invalid operation\"\n",
    "\n",
    "x = int(input(\"Enter the value for x: \"))\n",
    "y = int(input(\"Enter the value for y: \"))\n",
    "op = input(\"Enter the operator (+ or -): \")\n",
    "\n",
    "result = perform_operation(x, y, op)\n",
    "print(f\"Result of {x} {op} {y}: {result}\")"
   ]
  },
  {
   "cell_type": "code",
   "execution_count": 4,
   "metadata": {
    "id": "f-o9FFvbOQQJ"
   },
   "outputs": [],
   "source": [
    "def get_answer_using_zeroshot(context, question):\n",
    "    \"\"\"\n",
    "    Generates the response from the model based on a zero-shot prompt.\n",
    "\n",
    "    Parameters:\n",
    "    - context: str, contextual information for the prompt\n",
    "    - question: str, specific question for the model to answer\n",
    "\n",
    "    Returns:\n",
    "    - str, the generated result from the model\n",
    "    \"\"\"\n",
    "    prompt = zeroshot_prompt(context, question)\n",
    "    result = model.invoke(prompt)\n",
    "\n",
    "    return result"
   ]
  },
  {
   "cell_type": "code",
   "execution_count": null,
   "metadata": {
    "id": "w85528K4WbAM"
   },
   "outputs": [],
   "source": []
  },
  {
   "cell_type": "code",
   "execution_count": 6,
   "metadata": {
    "colab": {
     "base_uri": "https://localhost:8080/"
    },
    "id": "9ScSaBu9OXRI",
    "outputId": "984f2da0-b4b3-4811-a5fa-2c06bd98abc9"
   },
   "outputs": [
    {
     "name": "stdout",
     "output_type": "stream",
     "text": [
      "Generated Code:\n",
      "Here is the code for creating the landing page for users visiting my bookstore:\n",
      "```python\n",
      "import ipywidgets as widgets\n",
      "from IPython.display import display\n",
      "# Create a landing page with a welcome message and a catalog of books\n",
      "welcome_message = widgets.HTML(value=\"Welcome to IBM Community Learners Reader's Club\")\n",
      "display(welcome_message)\n",
      "# Create a catalog of books as tiles\n",
      "books = [\"Book 1\", \"Book 2\", \"Book 3\", \"Book 4\", \"Book 5\"]\n",
      "book_tiles = widgets.GridBox(children=[widgets.Label(book) for book in books], layout=widgets.Layout(grid_template_columns='repeat(auto-fit, minmax(200px, 1fr))'))\n",
      "display(book_tiles)\n",
      "# Add an image to the landing page\n",
      "image = widgets.Image(value=\"https://books.toscrape.com/media/cache/fe/72/fe72f0532301ec28892ae79a629a293c.jpg\")\n",
      "display(image)\n",
      "```\n",
      "This code creates a landing page with a welcome message, a catalog of books as tiles, and an image. The catalog of books is displayed as a grid of tiles, with each tile representing a book. The image is displayed using the `Image` widget from the `ipywidgets` library.\n",
      "\n"
     ]
    }
   ],
   "source": [
    "context = \"Design and develop an online bookstore UI components with minimalistic theme\"\n",
    "question = \"Create the landing page for users visiting my bookstore. The landing page should display a Welcome message `Welcome to IBM Community Learners Reader's Club` along with a catalog of books titles as tiles. Add the image in the triple back ticks section as widget image ```https://books.toscrape.com/media/cache/fe/72/fe72f0532301ec28892ae79a629a293c.jpg``` as the \"\n",
    "\n",
    "# Generate and display the UI code for the landing page\n",
    "result = get_answer_using_zeroshot(context, question)\n",
    "print(f\"Generated Code:\\n{result}\")"
   ]
  },
  {
   "cell_type": "code",
   "execution_count": null,
   "metadata": {
    "id": "9SM1IObHYbKN"
   },
   "outputs": [],
   "source": [
    "examples = [\n",
    "    {\n",
    "        \"question\": \"Create a UI for my landing page showing a catalog for my online bookstore\",\n",
    "        \"context\": \"Simple Catalog Tile with Borders and Shadows\",\n",
    "        \"output\": \"\"\"\n",
    "import ipywidgets as widgets\n",
    "from IPython.display import display\n",
    "\n",
    "# Create a container for the book catalog\n",
    "container = widgets.VBox()\n",
    "\n",
    "# Create styled book tiles\n",
    "book_tiles = [\n",
    "    widgets.HTML(value=\"\n",
    "        <div style='background-color: #f5f5f5; padding: 15px; margin: 10px; border-radius: 10px; box-shadow: 0px 4px 6px rgba(0, 0, 0, 0.1);'>\n",
    "            <h2 style='color: #333;'>Book Title 1</h2>\n",
    "            <p style='color: #333;'><b>Author:</b> Author Name 1</p>\n",
    "            <p style='color: #333;'><b>Price:</b> $10.00</p>\n",
    "        </div>\"),\n",
    "    widgets.HTML(value=\"\n",
    "        <div style='background-color: #f5f5f5; padding: 15px; margin: 10px; border-radius: 10px; box-shadow: 0px 4px 6px rgba(0, 0, 0, 0.1);'>\n",
    "            <h2 style='color: #333;'>Book Title 2</h2>\n",
    "            <p style='color: #333;'><b>Author:</b> Author Name 2</p>\n",
    "            <p style='color: #333;'><b>Price:</b> $15.00</p>\n",
    "        </div>\"),\n",
    "]\n",
    "\n",
    "container.children = book_tiles\n",
    "display(container)\n",
    "\"\"\"\n",
    "    },\n",
    "    {\n",
    "        \"question\": \"Add a search bar to my online bookstore's landing page with a placeholder and search icon\",\n",
    "        \"context\": \"Search Bar with Placeholder Text and Search Button\",\n",
    "        \"output\": \"\"\"\n",
    "import ipywidgets as widgets\n",
    "from IPython.display import display\n",
    "\n",
    "# Create search bar with placeholder text and search icon\n",
    "search_bar = widgets.HBox([\n",
    "    widgets.Text(\n",
    "        placeholder=\"Search for a book...\",\n",
    "        layout=widgets.Layout(width=\"250px\", padding=\"5px\"),\n",
    "        style={\"description_width\": \"0px\"}\n",
    "    ),\n",
    "    widgets.Button(\n",
    "        icon=\"search\",\n",
    "        tooltip=\"Search\",\n",
    "        layout=widgets.Layout(width=\"40px\", padding=\"5px\")\n",
    "    )\n",
    "])\n",
    "\n",
    "display(search_bar)\n",
    "\n",
    "\"\"\"\n",
    "    },\n",
    "    {\n",
    "        \"question\": \"Design an enhanced catalog UI with alternating tile colors for my online bookstore\",\n",
    "        \"context\": \"Enhanced Book Catalog with Alternating Tile Colors and Font Styling\",\n",
    "        \"output\": \"\"\"\n",
    "import ipywidgets as widgets\n",
    "from IPython.display import display\n",
    "\n",
    "# Create search bar with placeholder text and search icon\n",
    "search_bar = widgets.HBox([\n",
    "    widgets.Text(\n",
    "        placeholder=\"Search for a book...\",\n",
    "        layout=widgets.Layout(width=\"250px\", padding=\"5px\"),\n",
    "        style={\"description_width\": \"0px\"}\n",
    "    ),\n",
    "    widgets.Button(\n",
    "        icon=\"search\",\n",
    "        tooltip=\"Search\",\n",
    "        layout=widgets.Layout(width=\"40px\", padding=\"5px\")\n",
    "    )\n",
    "])\n",
    "\n",
    "display(search_bar)\n",
    "\n",
    "\"\"\"\n",
    "    }\n",
    "\n",
    "]"
   ]
  },
  {
   "cell_type": "code",
   "execution_count": null,
   "metadata": {
    "id": "3t-3ohq1YhiK"
   },
   "outputs": [],
   "source": [
    "def few_shot_prompt(context, question):\n",
    "    example_prompts = \"\\n\\n\".join(\n",
    "        f\"Context: {ex['context']}\\nOutput:\\n{ex['output']}\" for ex in examples\n",
    "    )\n",
    "    # prompt = f\"\"\"\n",
    "    # You are an experienced programmer with 15 years of experience writing full-stack applications.\n",
    "    # Your task is to help build an online bookstore with Tkinter components.\n",
    "    # Examples:\n",
    "    # {example_prompts}\n",
    "\n",
    "    # Now, {context}\n",
    "    # \"\"\"\n",
    "    prompt = f\"\"\"\n",
    "    You are an experienced programmer with 15 years of experience writing full-stack applications.\n",
    "    Your task is to help build an online bookstore with Jupyter Notebook widgets for UI components.\n",
    "    Begin by creating UI components using the Jupiter Notebook Widgets for interactivity.\n",
    "    The ouput code should not exceed 100 Tokens. Do not use GridBoxLayout attribute in the output.\n",
    "    Write Python code to address each specific user request. Return only the code as output.\n",
    "\n",
    "    Examples:\n",
    "    {example_prompts}\n",
    "\n",
    "    Now, {context}\n",
    "    Question: {question}\n",
    "    \"\"\"\n",
    "    return prompt"
   ]
  },
  {
   "cell_type": "code",
   "execution_count": null,
   "metadata": {
    "colab": {
     "base_uri": "https://localhost:8080/"
    },
    "id": "_HdEKhuZYq9y",
    "outputId": "ee1489b8-e34f-4ed5-e55b-7dcbc5a78871"
   },
   "outputs": [
    {
     "name": "stdout",
     "output_type": "stream",
     "text": [
      "Here is the code to create the landing page for the bookstore:\n",
      "```python\n",
      "import ipywidgets as widgets\n",
      "from IPython.display import display\n",
      "# Create a container for the book catalog\n",
      "container = widgets.VBox()\n",
      "# Create styled book tiles\n",
      "book_tiles = [\n",
      " widgets.HTML(value=\"\n",
      " <div style='background-color: #f5f5f5; padding: 15px; margin: 10px; border-radius: 10px; box-shadow: 0px 4px 6px rgba(0, 0, 0, 0.1);'>\n",
      " <h2 style='color: #333;'>Book Title 1</h2>\n",
      " <p style='color: #333;'><b>Author:</b> Author Name 1</p>\n",
      " <p style='color: #333;'><b>Price:</b> $10.00</p>\n",
      " </div>\"),\n",
      " widgets.HTML(value=\"\n",
      " <div style='background-color: #f5f5f5; padding: 15px; margin: 10px; border-radius: 10px; box-shadow: 0px 4px 6px rgba(0, 0, 0, 0.1);'>\n",
      " <h2 style='color: #333;'>Book Title 2</h2>\n",
      " <p style='color: #333;'><b>Author:</b> Author Name 2</p>\n",
      " <p style='color: #333;'><b>Price:</b> $15.00</p>\n",
      " </div>\"),\n",
      "]\n",
      "container.children = book_tiles\n",
      "# Create search bar with placeholder text and search icon\n",
      "search_bar = widgets.HBox([\n",
      " widgets.Text(\n",
      " placeholder=\"Search for a book...\",\n",
      " layout=widgets.Layout(width=\"250px\", padding=\"5px\"),\n",
      " style={\"description_width\": \"0px\"}\n",
      " ),\n",
      " widgets.Button(\n",
      " icon=\"search\",\n",
      " tooltip=\"Search\",\n",
      " layout=widgets.Layout(width=\"40px\", padding=\"5px\")\n",
      " )\n",
      "])\n",
      "# Display the landing page\n",
      "display(widgets.VBox([container, search_bar]))\n",
      "```\n",
      "This code creates a\n"
     ]
    }
   ],
   "source": [
    "# Function to get answer using few-shot prompting\n",
    "def get_answer_using_few_shot(context, question):\n",
    "    prompt = few_shot_prompt(context, question)\n",
    "    result = model.invoke(prompt)\n",
    "    return result\n",
    "\n",
    "# Define context and question for generation\n",
    "# context = \"create a UI code for the landing page for my online bookstore with colored header and items arranged in rows\"\n",
    "# question = \"Create Tkinter code for an online bookstore with header and items in a row.\"\n",
    "context = \"Design and develop an online bookstore with user-friendly UI components.\"\n",
    "question = \"Create the landing page for users visiting my bookstore. The landing page should display a catalog of book titles as tiles and include a free-text search bar with a search icon.\"\n",
    "\n",
    "# Run few-shot prompt\n",
    "response = get_answer_using_few_shot(context, question)\n",
    "print(response)"
   ]
  },
  {
   "cell_type": "code",
   "execution_count": null,
   "metadata": {
    "id": "0onk8IpMnH0X"
   },
   "outputs": [],
   "source": [
    "from langchain.prompts import PromptTemplate"
   ]
  },
  {
   "cell_type": "code",
   "execution_count": null,
   "metadata": {
    "id": "AokjBPJSnJfG"
   },
   "outputs": [],
   "source": [
    "def generate_cot_prompt(context, question):\n",
    "    prompt = f\"\"\"\n",
    "    You are an experienced UI developer tasked with designing a user-friendly, styled navigation bar for an online bookstore in Jupyter Notebook.\n",
    "    The ouput code should not exceed 100 Tokens. Do not use GridBoxLayout attribute in the output.\n",
    "    Write Python code to address each specific user request.\n",
    "    Please follow these Chain of Thought steps:\n",
    "\n",
    "    Step 1: Define the navigation items and layout based on context.\n",
    "    Step 2: Create buttons for each navigation item (e.g., Home, Catalog, Cart, Account) using ipywidgets.\n",
    "    Step 3: Arrange buttons in a horizontal layout for a navigation bar.\n",
    "    Step 4: Add custom CSS styles for hover effects, padding, and layout alignment.\n",
    "    Step 5: Combine all components and render the complete navigation bar.\n",
    "\n",
    "    Context: {context}\n",
    "\n",
    "    Question: {question}\n",
    "    provide a step-by-step breakdown of the code that is needed to complete the task.\n",
    "    \"\"\"\n",
    "\n",
    "#Now, proceed to provide a step-by-step breakdown along with the code needed to complete the task.\n",
    "    return prompt"
   ]
  },
  {
   "cell_type": "code",
   "execution_count": null,
   "metadata": {
    "colab": {
     "base_uri": "https://localhost:8080/"
    },
    "id": "6bbjuonfnchW",
    "outputId": "cc6d904b-5ad4-4843-87a1-1a0e2149c332"
   },
   "outputs": [
    {
     "name": "stdout",
     "output_type": "stream",
     "text": [
      "Sure, here's a step-by-step breakdown of the code needed to create the landing page for users visiting your bookstore:\n",
      "1. Import the necessary libraries:\n",
      "```python\n",
      "import ipywidgets as widgets\n",
      "from IPython.display import display\n",
      "```\n",
      "2. Define the book titles as a list of strings:\n",
      "```python\n",
      "book_titles = ['Book 1', 'Book 2', 'Book 3', 'Book 4', 'Book 5']\n",
      "```\n",
      "3. Create a function to display the book titles as tiles:\n",
      "```python\n",
      "def display_books(book_titles):\n",
      " for title in book_titles:\n",
      " button = widgets.Button(description=title)\n",
      " display(button)\n",
      "```\n",
      "4. Create a search bar with a search icon:\n",
      "```python\n",
      "search_bar = widgets.Text(placeholder='Search for a book...')\n",
      "search_icon = widgets.Image(value='search_icon.png')\n",
      "search_box = widgets.HBox(children=[search_bar, search_icon])\n",
      "display(search_box)\n",
      "```\n",
      "5. Combine the book tiles and search bar into a single layout:\n",
      "```python\n",
      "layout = widgets.VBox(children=[widgets.Label('Catalog'), widgets.HBox(children=book_titles), search_box])\n",
      "display(layout)\n",
      "```\n",
      "6. Add custom CSS styles to the layout:\n",
      "```python\n",
      "layout.layout.align_items = 'center'\n",
      "layout.layout.justify_content = 'center'\n",
      "for child in layout.children:\n",
      " child.style.border = '1px solid black'\n",
      " search_bar.style.border_radius = '5px'\n",
      " search_icon.style.margin_left = '5px'\n",
      "```\n",
      "That's it! You should now have a landing page for your bookstore that displays a catalog of book titles as tiles and includes a free-text search bar with a search icon.\n",
      "\n"
     ]
    }
   ],
   "source": [
    "# Function to get answer using few-shot prompting\n",
    "def get_answer_using_cot(context, question):\n",
    "    prompt = generate_cot_prompt(context, question)\n",
    "    result = model.invoke(prompt)\n",
    "    return result\n",
    "\n",
    "# Define context and question for generation\n",
    "# context = \"create a UI code for the landing page for my online bookstore with colored header and items arranged in rows\"\n",
    "# question = \"Create Tkinter code for an online bookstore with header and items in a row.\"\n",
    "context = \"Design and develop an online bookstore with user-friendly UI components.\"\n",
    "question = \"Create the landing page for users visiting my bookstore. The landing page should display a catalog of book titles as tiles and include a free-text search bar with a search icon.\"\n",
    "\n",
    "# Run few-shot prompt\n",
    "response = get_answer_using_cot(context, question)\n",
    "print(response)"
   ]
  }
 ],
 "metadata": {
  "colab": {
   "provenance": []
  },
  "kernelspec": {
   "display_name": ".venv",
   "language": "python",
   "name": "python3"
  },
  "language_info": {
   "codemirror_mode": {
    "name": "ipython",
    "version": 3
   },
   "file_extension": ".py",
   "mimetype": "text/x-python",
   "name": "python",
   "nbconvert_exporter": "python",
   "pygments_lexer": "ipython3",
   "version": "3.10.11"
  }
 },
 "nbformat": 4,
 "nbformat_minor": 0
}
